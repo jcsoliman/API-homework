{
 "cells": [
  {
   "cell_type": "markdown",
   "metadata": {},
   "source": [
    "# function for monte carlo data frame\n",
    "## variables:\n",
    "number_simulations\n",
    "number_trading_days\n",
    "portfolio weights\n",
    "\n",
    "##initialize:\n",
    "###before for loop\n",
    "monte_carlo = pd.DataFrame()\n",
    "simulated_prices = pd.DataFrame()\n",
    "\n",
    "###within top for loop:\n",
    "simulated_spy_prices = [spy_last_price]\n",
    "simulated_agg_prices = [agg_last_price]\n",
    "\n",
    "\n",
    "\n",
    "# function for mc visualization\n",
    "## variables:\n",
    "monte_carlo\n",
    "number_trading_days/252\n",
    "\n",
    "# function to return ending cumulative returns\n",
    "## variables:\n",
    "monte_carlo\n",
    "\n",
    "# function to print confidence interval\n",
    "## variables:\n",
    "conf_interval\n",
    "ending_cumulative_returns\n",
    "\n",
    "##initialize:\n",
    "lower_bound = (1 - conf_interal)/2\n",
    "upper_bound = 1 - lower_bound\n",
    "\n",
    "\n",
    "# function to visualize CI\n",
    "##variables:\n",
    "ending_cumulative_returns\n",
    "confidence_interval\n",
    "\n",
    "# function to print value at x quantile, and portfolio return\n",
    "ending_cumulative_returns\n",
    "quantile1\n",
    "quantile2\n",
    "quantile3\n",
    "initial_investment\n",
    "\n",
    "# function for returns over time at x quantile\n",
    "\n",
    "\n",
    "# function to visualize returns over time at x quantile"
   ]
  },
  {
   "cell_type": "code",
   "execution_count": null,
   "metadata": {},
   "outputs": [],
   "source": []
  }
 ],
 "metadata": {
  "kernelspec": {
   "display_name": "Python 3",
   "language": "python",
   "name": "python3"
  },
  "language_info": {
   "codemirror_mode": {
    "name": "ipython",
    "version": 3
   },
   "file_extension": ".py",
   "mimetype": "text/x-python",
   "name": "python",
   "nbconvert_exporter": "python",
   "pygments_lexer": "ipython3",
   "version": "3.7.3"
  }
 },
 "nbformat": 4,
 "nbformat_minor": 4
}
