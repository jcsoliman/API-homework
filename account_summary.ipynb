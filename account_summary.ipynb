{
 "cells": [
  {
   "cell_type": "code",
   "execution_count": 2,
   "metadata": {},
   "outputs": [],
   "source": [
    "import os\n",
    "import plaid\n",
    "import requests\n",
    "import datetime\n",
    "import json\n",
    "import pandas as pd\n",
    "%matplotlib inline"
   ]
  },
  {
   "cell_type": "code",
   "execution_count": 3,
   "metadata": {},
   "outputs": [],
   "source": [
    "def pretty_print_response(response):\n",
    "  print(json.dumps(response, indent=4, sort_keys=True))"
   ]
  },
  {
   "cell_type": "code",
   "execution_count": 6,
   "metadata": {},
   "outputs": [],
   "source": [
    "PLAID_CLIENT_ID = os.getenv('PLAID_CLIENT_ID')\n",
    "PLAID_SECRET = os.getenv('PLAID_SECRET')\n",
    "PLAID_PUBLIC_KEY = os.getenv('PLAID_PUBLIC_KEY')\n",
    "PLAID_ENV = os.getenv('PLAID_ENV', 'sandbox')\n",
    "PLAID_PRODUCTS = os.getenv('PLAID_PRODUCTS', 'transactions')"
   ]
  },
  {
   "cell_type": "markdown",
   "metadata": {},
   "source": [
    "# Plaid Access Token\n",
    "\n",
    "In this section, you will use the plaid-python api to generate the correct authentication tokens to access data in the free developer Sandbox. This mimics how you might connect to your own account or a customer account, but due to privacy issues, this homework will only require connecting to and analyzing the fake data from the developer sandbox that Plaid provides. \n",
    "\n",
    "Complete the following steps to generate an access token:\n",
    "1. Create a client to connect to paid\n",
    "2. Use the client to generate a public token and request the following items: \n",
    "['transactions', 'income', 'assets']\n",
    "3. Exchange the public token for an access token\n",
    "4. Test the access token by requesting and printing the available test accounts"
   ]
  },
  {
   "cell_type": "markdown",
   "metadata": {},
   "source": [
    "### 1. Create a client to connect to plaid"
   ]
  },
  {
   "cell_type": "code",
   "execution_count": 13,
   "metadata": {},
   "outputs": [],
   "source": [
    "INSTITUTION_ID = \"ins_109508\""
   ]
  },
  {
   "cell_type": "code",
   "execution_count": 14,
   "metadata": {},
   "outputs": [
    {
     "data": {
      "text/plain": [
       "{'institutions': [], 'request_id': 'S2VW1F3pPOjN6nd'}"
      ]
     },
     "execution_count": 14,
     "metadata": {},
     "output_type": "execute_result"
    }
   ],
   "source": [
    "# YOUR CODE HERE\n",
    "client = plaid.Client(client_id=PLAID_CLIENT_ID, secret=PLAID_SECRET, public_key=PLAID_PUBLIC_KEY, environment='sandbox')\n",
    "client.Institutions.search(INSTITUTION_ID)"
   ]
  },
  {
   "cell_type": "markdown",
   "metadata": {},
   "source": [
    "### 2. Generate a public token"
   ]
  },
  {
   "cell_type": "code",
   "execution_count": 18,
   "metadata": {},
   "outputs": [
    {
     "name": "stdout",
     "output_type": "stream",
     "text": [
      "{'public_token': 'public-sandbox-644bea94-eea0-423f-ad67-ca3c2265defe', 'request_id': '5WEEDQb0FTHDNpP'}\n"
     ]
    }
   ],
   "source": [
    "# YOUR CODE HERE\n",
    "create_token_response = client.Sandbox.public_token.create(INSTITUTION_ID, ['transactions','income','assets'])\n",
    "print(create_token_response)"
   ]
  },
  {
   "cell_type": "markdown",
   "metadata": {},
   "source": [
    "### 3. Exchange the public token for an access token"
   ]
  },
  {
   "cell_type": "code",
   "execution_count": 28,
   "metadata": {},
   "outputs": [
    {
     "name": "stdout",
     "output_type": "stream",
     "text": [
      "{'access_token': 'access-sandbox-d44b690e-715e-4997-8412-4e89e435f855', 'item_id': 'r8JGw3Bel5FZwkQPnzAeTQngEMqeazileM5z1', 'request_id': 'A3AZJnwHcFgkcOj'}\n",
      "access-sandbox-d44b690e-715e-4997-8412-4e89e435f855\n"
     ]
    }
   ],
   "source": [
    "# YOUR CODE HERE\n",
    "exchange_response = client.Item.public_token.exchange(create_token_response['public_token'])\n",
    "access_token = exchange_response['access_token']\n",
    "print(exchange_response)\n",
    "print(access_token)"
   ]
  },
  {
   "cell_type": "markdown",
   "metadata": {},
   "source": [
    "### 4. Fetch Accounts"
   ]
  },
  {
   "cell_type": "code",
   "execution_count": 47,
   "metadata": {},
   "outputs": [
    {
     "name": "stdout",
     "output_type": "stream",
     "text": [
      "[\n",
      "    {\n",
      "        \"account_id\": \"wnKGqN4LB5Cye9pMKaDAipWnabN6E9FrzlZAm\",\n",
      "        \"balances\": {\n",
      "            \"available\": 100,\n",
      "            \"current\": 110,\n",
      "            \"iso_currency_code\": \"USD\",\n",
      "            \"limit\": null,\n",
      "            \"unofficial_currency_code\": null\n",
      "        },\n",
      "        \"mask\": \"0000\",\n",
      "        \"name\": \"Plaid Checking\",\n",
      "        \"official_name\": \"Plaid Gold Standard 0% Interest Checking\",\n",
      "        \"subtype\": \"checking\",\n",
      "        \"type\": \"depository\"\n",
      "    },\n",
      "    {\n",
      "        \"account_id\": \"5KoB5rWDZVsAqzwM3vWpCAyBjdwmXMiZXpKzQ\",\n",
      "        \"balances\": {\n",
      "            \"available\": 200,\n",
      "            \"current\": 210,\n",
      "            \"iso_currency_code\": \"USD\",\n",
      "            \"limit\": null,\n",
      "            \"unofficial_currency_code\": null\n",
      "        },\n",
      "        \"mask\": \"1111\",\n",
      "        \"name\": \"Plaid Saving\",\n",
      "        \"official_name\": \"Plaid Silver Standard 0.1% Interest Saving\",\n",
      "        \"subtype\": \"savings\",\n",
      "        \"type\": \"depository\"\n",
      "    },\n",
      "    {\n",
      "        \"account_id\": \"JgEqV83ZPbClGLdNzogqI5N3QjyBw6CdX56pX\",\n",
      "        \"balances\": {\n",
      "            \"available\": null,\n",
      "            \"current\": 1000,\n",
      "            \"iso_currency_code\": \"USD\",\n",
      "            \"limit\": null,\n",
      "            \"unofficial_currency_code\": null\n",
      "        },\n",
      "        \"mask\": \"2222\",\n",
      "        \"name\": \"Plaid CD\",\n",
      "        \"official_name\": \"Plaid Bronze Standard 0.2% Interest CD\",\n",
      "        \"subtype\": \"cd\",\n",
      "        \"type\": \"depository\"\n",
      "    },\n",
      "    {\n",
      "        \"account_id\": \"kZy6AGVd1mfMyB9k8Nlgu9z43GZb61fW786rD\",\n",
      "        \"balances\": {\n",
      "            \"available\": null,\n",
      "            \"current\": 410,\n",
      "            \"iso_currency_code\": \"USD\",\n",
      "            \"limit\": 2000,\n",
      "            \"unofficial_currency_code\": null\n",
      "        },\n",
      "        \"mask\": \"3333\",\n",
      "        \"name\": \"Plaid Credit Card\",\n",
      "        \"official_name\": \"Plaid Diamond 12.5% APR Interest Credit Card\",\n",
      "        \"subtype\": \"credit card\",\n",
      "        \"type\": \"credit\"\n",
      "    },\n",
      "    {\n",
      "        \"account_id\": \"lMZGAlwaL1TDX64bePkBF4j1N5orGDiZBro1o\",\n",
      "        \"balances\": {\n",
      "            \"available\": 43200,\n",
      "            \"current\": 43200,\n",
      "            \"iso_currency_code\": \"USD\",\n",
      "            \"limit\": null,\n",
      "            \"unofficial_currency_code\": null\n",
      "        },\n",
      "        \"mask\": \"4444\",\n",
      "        \"name\": \"Plaid Money Market\",\n",
      "        \"official_name\": \"Plaid Platinum Standard 1.85% Interest Money Market\",\n",
      "        \"subtype\": \"money market\",\n",
      "        \"type\": \"depository\"\n",
      "    },\n",
      "    {\n",
      "        \"account_id\": \"qgRGABz7EjCo1BePVr3ZFEZB5zkqWGCdlVr8K\",\n",
      "        \"balances\": {\n",
      "            \"available\": null,\n",
      "            \"current\": 320.76,\n",
      "            \"iso_currency_code\": \"USD\",\n",
      "            \"limit\": null,\n",
      "            \"unofficial_currency_code\": null\n",
      "        },\n",
      "        \"mask\": \"5555\",\n",
      "        \"name\": \"Plaid IRA\",\n",
      "        \"official_name\": null,\n",
      "        \"subtype\": \"ira\",\n",
      "        \"type\": \"investment\"\n",
      "    },\n",
      "    {\n",
      "        \"account_id\": \"K8nKPExMjVFq4XaNlDAEf63xE89WdeFVompgx\",\n",
      "        \"balances\": {\n",
      "            \"available\": null,\n",
      "            \"current\": 23631.9805,\n",
      "            \"iso_currency_code\": \"USD\",\n",
      "            \"limit\": null,\n",
      "            \"unofficial_currency_code\": null\n",
      "        },\n",
      "        \"mask\": \"6666\",\n",
      "        \"name\": \"Plaid 401k\",\n",
      "        \"official_name\": null,\n",
      "        \"subtype\": \"401k\",\n",
      "        \"type\": \"investment\"\n",
      "    },\n",
      "    {\n",
      "        \"account_id\": \"r8JGw3Bel5FZwkQPnzAeTQngXevqG9ClbDJLv\",\n",
      "        \"balances\": {\n",
      "            \"available\": null,\n",
      "            \"current\": 65262,\n",
      "            \"iso_currency_code\": \"USD\",\n",
      "            \"limit\": null,\n",
      "            \"unofficial_currency_code\": null\n",
      "        },\n",
      "        \"mask\": \"7777\",\n",
      "        \"name\": \"Plaid Student Loan\",\n",
      "        \"official_name\": null,\n",
      "        \"subtype\": \"student\",\n",
      "        \"type\": \"loan\"\n",
      "    }\n",
      "]\n"
     ]
    }
   ],
   "source": [
    "# YOUR CODE HERE\n",
    "# Extract Transactions with date range\n",
    "last_number_of_days = -5\n",
    "start_date = '{:%Y-%m-%d}'.format(datetime.datetime.now() + datetime.timedelta(last_number_of_days))\n",
    "end_date = '{:%Y-%m-%d}'.format(datetime.datetime.now())\n",
    " \n",
    "\n",
    "# Execute get request for transactions\n",
    "transactions_response = client.Transactions.get(access_token,start_date,end_date)\n",
    "#pretty_print_response(transactions_response)\n",
    "pretty_print_response(transactions_response['accounts'])"
   ]
  },
  {
   "cell_type": "markdown",
   "metadata": {},
   "source": [
    "---"
   ]
  },
  {
   "cell_type": "markdown",
   "metadata": {},
   "source": [
    "# Account Transactions with Plaid\n",
    "\n",
    "In this section, you will use the Plaid Python SDK to connect to the Developer Sandbox account and grab a list of transactions. You will need to complete the following steps:\n",
    "\n",
    "\n",
    "1. Use the access token to fetch the transactions for the last 90 days\n",
    "2. Print the categories for each transaction type\n",
    "3. Create a new DataFrame using the following fields from the JSON transaction data: `date, name, amount, category`. (For categories with more than one label, just use the first category label in the list)\n",
    "4. Convert the data types to the appropriate types (i.e. datetimeindex for the date and float for the amount)"
   ]
  },
  {
   "cell_type": "markdown",
   "metadata": {},
   "source": [
    "### 1. Fetch the Transactions for the last 90 days"
   ]
  },
  {
   "cell_type": "code",
   "execution_count": 48,
   "metadata": {},
   "outputs": [
    {
     "name": "stdout",
     "output_type": "stream",
     "text": [
      "{\n",
      "    \"accounts\": [\n",
      "        {\n",
      "            \"account_id\": \"wnKGqN4LB5Cye9pMKaDAipWnabN6E9FrzlZAm\",\n",
      "            \"balances\": {\n",
      "                \"available\": 100,\n",
      "                \"current\": 110,\n",
      "                \"iso_currency_code\": \"USD\",\n",
      "                \"limit\": null,\n",
      "                \"unofficial_currency_code\": null\n",
      "            },\n",
      "            \"mask\": \"0000\",\n",
      "            \"name\": \"Plaid Checking\",\n",
      "            \"official_name\": \"Plaid Gold Standard 0% Interest Checking\",\n",
      "            \"subtype\": \"checking\",\n",
      "            \"type\": \"depository\"\n",
      "        },\n",
      "        {\n",
      "            \"account_id\": \"5KoB5rWDZVsAqzwM3vWpCAyBjdwmXMiZXpKzQ\",\n",
      "            \"balances\": {\n",
      "                \"available\": 200,\n",
      "                \"current\": 210,\n",
      "                \"iso_currency_code\": \"USD\",\n",
      "                \"limit\": null,\n",
      "                \"unofficial_currency_code\": null\n",
      "            },\n",
      "            \"mask\": \"1111\",\n",
      "            \"name\": \"Plaid Saving\",\n",
      "            \"official_name\": \"Plaid Silver Standard 0.1% Interest Saving\",\n",
      "            \"subtype\": \"savings\",\n",
      "            \"type\": \"depository\"\n",
      "        },\n",
      "        {\n",
      "            \"account_id\": \"JgEqV83ZPbClGLdNzogqI5N3QjyBw6CdX56pX\",\n",
      "            \"balances\": {\n",
      "                \"available\": null,\n",
      "                \"current\": 1000,\n",
      "                \"iso_currency_code\": \"USD\",\n",
      "                \"limit\": null,\n",
      "                \"unofficial_currency_code\": null\n",
      "            },\n",
      "            \"mask\": \"2222\",\n",
      "            \"name\": \"Plaid CD\",\n",
      "            \"official_name\": \"Plaid Bronze Standard 0.2% Interest CD\",\n",
      "            \"subtype\": \"cd\",\n",
      "            \"type\": \"depository\"\n",
      "        },\n",
      "        {\n",
      "            \"account_id\": \"kZy6AGVd1mfMyB9k8Nlgu9z43GZb61fW786rD\",\n",
      "            \"balances\": {\n",
      "                \"available\": null,\n",
      "                \"current\": 410,\n",
      "                \"iso_currency_code\": \"USD\",\n",
      "                \"limit\": 2000,\n",
      "                \"unofficial_currency_code\": null\n",
      "            },\n",
      "            \"mask\": \"3333\",\n",
      "            \"name\": \"Plaid Credit Card\",\n",
      "            \"official_name\": \"Plaid Diamond 12.5% APR Interest Credit Card\",\n",
      "            \"subtype\": \"credit card\",\n",
      "            \"type\": \"credit\"\n",
      "        },\n",
      "        {\n",
      "            \"account_id\": \"lMZGAlwaL1TDX64bePkBF4j1N5orGDiZBro1o\",\n",
      "            \"balances\": {\n",
      "                \"available\": 43200,\n",
      "                \"current\": 43200,\n",
      "                \"iso_currency_code\": \"USD\",\n",
      "                \"limit\": null,\n",
      "                \"unofficial_currency_code\": null\n",
      "            },\n",
      "            \"mask\": \"4444\",\n",
      "            \"name\": \"Plaid Money Market\",\n",
      "            \"official_name\": \"Plaid Platinum Standard 1.85% Interest Money Market\",\n",
      "            \"subtype\": \"money market\",\n",
      "            \"type\": \"depository\"\n",
      "        },\n",
      "        {\n",
      "            \"account_id\": \"qgRGABz7EjCo1BePVr3ZFEZB5zkqWGCdlVr8K\",\n",
      "            \"balances\": {\n",
      "                \"available\": null,\n",
      "                \"current\": 320.76,\n",
      "                \"iso_currency_code\": \"USD\",\n",
      "                \"limit\": null,\n",
      "                \"unofficial_currency_code\": null\n",
      "            },\n",
      "            \"mask\": \"5555\",\n",
      "            \"name\": \"Plaid IRA\",\n",
      "            \"official_name\": null,\n",
      "            \"subtype\": \"ira\",\n",
      "            \"type\": \"investment\"\n",
      "        },\n",
      "        {\n",
      "            \"account_id\": \"K8nKPExMjVFq4XaNlDAEf63xE89WdeFVompgx\",\n",
      "            \"balances\": {\n",
      "                \"available\": null,\n",
      "                \"current\": 23631.9805,\n",
      "                \"iso_currency_code\": \"USD\",\n",
      "                \"limit\": null,\n",
      "                \"unofficial_currency_code\": null\n",
      "            },\n",
      "            \"mask\": \"6666\",\n",
      "            \"name\": \"Plaid 401k\",\n",
      "            \"official_name\": null,\n",
      "            \"subtype\": \"401k\",\n",
      "            \"type\": \"investment\"\n",
      "        },\n",
      "        {\n",
      "            \"account_id\": \"r8JGw3Bel5FZwkQPnzAeTQngXevqG9ClbDJLv\",\n",
      "            \"balances\": {\n",
      "                \"available\": null,\n",
      "                \"current\": 65262,\n",
      "                \"iso_currency_code\": \"USD\",\n",
      "                \"limit\": null,\n",
      "                \"unofficial_currency_code\": null\n",
      "            },\n",
      "            \"mask\": \"7777\",\n",
      "            \"name\": \"Plaid Student Loan\",\n",
      "            \"official_name\": null,\n",
      "            \"subtype\": \"student\",\n",
      "            \"type\": \"loan\"\n",
      "        }\n",
      "    ],\n",
      "    \"item\": {\n",
      "        \"available_products\": [\n",
      "            \"auth\",\n",
      "            \"balance\",\n",
      "            \"credit_details\",\n",
      "            \"identity\",\n",
      "            \"investments\",\n",
      "            \"liabilities\"\n",
      "        ],\n",
      "        \"billed_products\": [\n",
      "            \"assets\",\n",
      "            \"income\",\n",
      "            \"transactions\"\n",
      "        ],\n",
      "        \"error\": null,\n",
      "        \"institution_id\": \"ins_109508\",\n",
      "        \"item_id\": \"r8JGw3Bel5FZwkQPnzAeTQngEMqeazileM5z1\",\n",
      "        \"webhook\": \"\"\n",
      "    },\n",
      "    \"request_id\": \"MMLJL1LxTZiuMzc\",\n",
      "    \"total_transactions\": 4,\n",
      "    \"transactions\": [\n",
      "        {\n",
      "            \"account_id\": \"5KoB5rWDZVsAqzwM3vWpCAyBjdwmXMiZXpKzQ\",\n",
      "            \"account_owner\": null,\n",
      "            \"amount\": 25,\n",
      "            \"category\": [\n",
      "                \"Payment\",\n",
      "                \"Credit Card\"\n",
      "            ],\n",
      "            \"category_id\": \"16001000\",\n",
      "            \"date\": \"2019-09-18\",\n",
      "            \"iso_currency_code\": \"USD\",\n",
      "            \"location\": {\n",
      "                \"address\": null,\n",
      "                \"city\": null,\n",
      "                \"country\": null,\n",
      "                \"lat\": null,\n",
      "                \"lon\": null,\n",
      "                \"postal_code\": null,\n",
      "                \"region\": null,\n",
      "                \"store_number\": null\n",
      "            },\n",
      "            \"name\": \"CREDIT CARD 3333 PAYMENT *//\",\n",
      "            \"payment_meta\": {\n",
      "                \"by_order_of\": null,\n",
      "                \"payee\": null,\n",
      "                \"payer\": null,\n",
      "                \"payment_method\": null,\n",
      "                \"payment_processor\": null,\n",
      "                \"ppd_id\": null,\n",
      "                \"reason\": null,\n",
      "                \"reference_number\": null\n",
      "            },\n",
      "            \"pending\": false,\n",
      "            \"pending_transaction_id\": null,\n",
      "            \"transaction_id\": \"8BpdZ3n5LRurzpvkqKyAFbDVew4rkrcw3v4ab\",\n",
      "            \"transaction_type\": \"special\",\n",
      "            \"unofficial_currency_code\": null\n",
      "        },\n",
      "        {\n",
      "            \"account_id\": \"wnKGqN4LB5Cye9pMKaDAipWnabN6E9FrzlZAm\",\n",
      "            \"account_owner\": null,\n",
      "            \"amount\": 5.4,\n",
      "            \"category\": [\n",
      "                \"Travel\",\n",
      "                \"Car Service\",\n",
      "                \"Ride Share\"\n",
      "            ],\n",
      "            \"category_id\": \"22006001\",\n",
      "            \"date\": \"2019-09-18\",\n",
      "            \"iso_currency_code\": \"USD\",\n",
      "            \"location\": {\n",
      "                \"address\": null,\n",
      "                \"city\": null,\n",
      "                \"country\": null,\n",
      "                \"lat\": null,\n",
      "                \"lon\": null,\n",
      "                \"postal_code\": null,\n",
      "                \"region\": null,\n",
      "                \"store_number\": null\n",
      "            },\n",
      "            \"name\": \"Uber 063015 SF**POOL**\",\n",
      "            \"payment_meta\": {\n",
      "                \"by_order_of\": null,\n",
      "                \"payee\": null,\n",
      "                \"payer\": null,\n",
      "                \"payment_method\": null,\n",
      "                \"payment_processor\": null,\n",
      "                \"ppd_id\": null,\n",
      "                \"reason\": null,\n",
      "                \"reference_number\": null\n",
      "            },\n",
      "            \"pending\": false,\n",
      "            \"pending_transaction_id\": null,\n",
      "            \"transaction_id\": \"MW7zPAaLeZSrRE74mAgnFyZGR8MAJAt96bwx1\",\n",
      "            \"transaction_type\": \"special\",\n",
      "            \"unofficial_currency_code\": null\n",
      "        },\n",
      "        {\n",
      "            \"account_id\": \"lMZGAlwaL1TDX64bePkBF4j1N5orGDiZBro1o\",\n",
      "            \"account_owner\": null,\n",
      "            \"amount\": 5850,\n",
      "            \"category\": [\n",
      "                \"Transfer\",\n",
      "                \"Debit\"\n",
      "            ],\n",
      "            \"category_id\": \"21006000\",\n",
      "            \"date\": \"2019-09-17\",\n",
      "            \"iso_currency_code\": \"USD\",\n",
      "            \"location\": {\n",
      "                \"address\": null,\n",
      "                \"city\": null,\n",
      "                \"country\": null,\n",
      "                \"lat\": null,\n",
      "                \"lon\": null,\n",
      "                \"postal_code\": null,\n",
      "                \"region\": null,\n",
      "                \"store_number\": null\n",
      "            },\n",
      "            \"name\": \"ACH Electronic CreditGUSTO PAY 123456\",\n",
      "            \"payment_meta\": {\n",
      "                \"by_order_of\": null,\n",
      "                \"payee\": null,\n",
      "                \"payer\": null,\n",
      "                \"payment_method\": \"ACH\",\n",
      "                \"payment_processor\": null,\n",
      "                \"ppd_id\": null,\n",
      "                \"reason\": null,\n",
      "                \"reference_number\": null\n",
      "            },\n",
      "            \"pending\": false,\n",
      "            \"pending_transaction_id\": null,\n",
      "            \"transaction_id\": \"938a6xblpwfABvk5Lr1JCpgzdNElVlfRxzb86\",\n",
      "            \"transaction_type\": \"special\",\n",
      "            \"unofficial_currency_code\": null\n",
      "        },\n",
      "        {\n",
      "            \"account_id\": \"JgEqV83ZPbClGLdNzogqI5N3QjyBw6CdX56pX\",\n",
      "            \"account_owner\": null,\n",
      "            \"amount\": 1000,\n",
      "            \"category\": [\n",
      "                \"Transfer\",\n",
      "                \"Deposit\"\n",
      "            ],\n",
      "            \"category_id\": \"21007000\",\n",
      "            \"date\": \"2019-09-17\",\n",
      "            \"iso_currency_code\": \"USD\",\n",
      "            \"location\": {\n",
      "                \"address\": null,\n",
      "                \"city\": null,\n",
      "                \"country\": null,\n",
      "                \"lat\": null,\n",
      "                \"lon\": null,\n",
      "                \"postal_code\": null,\n",
      "                \"region\": null,\n",
      "                \"store_number\": null\n",
      "            },\n",
      "            \"name\": \"CD DEPOSIT .INITIAL.\",\n",
      "            \"payment_meta\": {\n",
      "                \"by_order_of\": null,\n",
      "                \"payee\": null,\n",
      "                \"payer\": null,\n",
      "                \"payment_method\": null,\n",
      "                \"payment_processor\": null,\n",
      "                \"ppd_id\": null,\n",
      "                \"reason\": null,\n",
      "                \"reference_number\": null\n",
      "            },\n",
      "            \"pending\": false,\n",
      "            \"pending_transaction_id\": null,\n",
      "            \"transaction_id\": \"W6R7kd1bE4f6wgBDNoKWCKajdNkEVEHlZoAMm\",\n",
      "            \"transaction_type\": \"special\",\n",
      "            \"unofficial_currency_code\": null\n",
      "        }\n",
      "    ]\n",
      "}\n"
     ]
    }
   ],
   "source": [
    "# YOUR CODE HERE\n",
    "\n",
    "last_number_of_days = -90\n",
    "transactions_response = client.Transactions.get(access_token,start_date,end_date)\n",
    "pretty_print_response(transactions_response)"
   ]
  },
  {
   "cell_type": "markdown",
   "metadata": {},
   "source": [
    "### 2. Print the categories for each transaction"
   ]
  },
  {
   "cell_type": "code",
   "execution_count": null,
   "metadata": {},
   "outputs": [],
   "source": [
    "# YOUR CODE HERE"
   ]
  },
  {
   "cell_type": "markdown",
   "metadata": {},
   "source": [
    "### 3. Create a new DataFrame using the following fields from the JSON transaction data: date, name, amount, category. \n",
    "\n",
    "(For categories with more than one label, just use the first category label in the list)"
   ]
  },
  {
   "cell_type": "code",
   "execution_count": null,
   "metadata": {},
   "outputs": [],
   "source": [
    "# YOUR CODE HERE"
   ]
  },
  {
   "cell_type": "markdown",
   "metadata": {},
   "source": [
    "### 4. Convert the data types to the appropriate types \n",
    "\n",
    "(i.e. datetimeindex for the date and float for the amount)"
   ]
  },
  {
   "cell_type": "code",
   "execution_count": null,
   "metadata": {},
   "outputs": [],
   "source": [
    "# YOUR CODE HERE"
   ]
  },
  {
   "cell_type": "markdown",
   "metadata": {},
   "source": [
    "---"
   ]
  },
  {
   "cell_type": "markdown",
   "metadata": {},
   "source": [
    "# Income Analysis with Plaid\n",
    "\n",
    "In this section, you will use the Plaid Sandbox to complete the following:\n",
    "1. Determine the previous year's gross income and print the results\n",
    "2. Determine the current monthly income and print the results\n",
    "3. Determine the projected yearly income and print the results"
   ]
  },
  {
   "cell_type": "code",
   "execution_count": null,
   "metadata": {},
   "outputs": [],
   "source": [
    "# YOUR CODE HERE"
   ]
  },
  {
   "cell_type": "markdown",
   "metadata": {},
   "source": [
    "---"
   ]
  },
  {
   "cell_type": "markdown",
   "metadata": {},
   "source": [
    "# Budget Analysis\n",
    "In this section, you will use the transactions DataFrame to analyze the customer's budget\n",
    "\n",
    "1. Calculate the total spending per category and print the results (Hint: groupby or count transactions per category)\n",
    "2. Generate a bar chart with the number of transactions for each category \n",
    "3. Calulate the expenses per month\n",
    "4. Plot the total expenses per month"
   ]
  },
  {
   "cell_type": "markdown",
   "metadata": {},
   "source": [
    "### Calculate the expenses per category"
   ]
  },
  {
   "cell_type": "code",
   "execution_count": null,
   "metadata": {},
   "outputs": [],
   "source": [
    "# YOUR CODE HERE"
   ]
  },
  {
   "cell_type": "markdown",
   "metadata": {},
   "source": [
    "### Calculate the expenses per month"
   ]
  },
  {
   "cell_type": "code",
   "execution_count": null,
   "metadata": {},
   "outputs": [],
   "source": [
    "# YOUR CODE HERE"
   ]
  }
 ],
 "metadata": {
  "kernel_info": {
   "name": "dev"
  },
  "kernelspec": {
   "display_name": "Python 3",
   "language": "python",
   "name": "python3"
  },
  "language_info": {
   "codemirror_mode": {
    "name": "ipython",
    "version": 3
   },
   "file_extension": ".py",
   "mimetype": "text/x-python",
   "name": "python",
   "nbconvert_exporter": "python",
   "pygments_lexer": "ipython3",
   "version": "3.7.3"
  },
  "nteract": {
   "version": "0.12.3"
  }
 },
 "nbformat": 4,
 "nbformat_minor": 4
}
